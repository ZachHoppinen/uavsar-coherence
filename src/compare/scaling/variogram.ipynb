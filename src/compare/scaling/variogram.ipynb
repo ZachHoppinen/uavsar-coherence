{
 "cells": [
  {
   "cell_type": "code",
   "execution_count": 2,
   "metadata": {},
   "outputs": [],
   "source": [
    "import numpy as np\n",
    "import pandas as pd\n",
    "import rioxarray as rxa\n",
    "\n",
    "import matplotlib as mpl\n",
    "import matplotlib.pyplot as plt\n",
    "\n",
    "from pathlib import Path\n",
    "\n",
    "import skgstat as skg\n",
    "\n",
    "from tqdm import tqdm\n",
    "\n",
    "from itertools import product\n",
    "\n",
    "np.random.seed(42)\n",
    "\n",
    "# home_dir = Path('/Users/rdcrlzh1/Documents/uavsar-coherence/')\n",
    "home_dir = Path('/bsuhome/zacharykeskinen/uavsar-coherence/')\n",
    "fig_dir = home_dir.joinpath('figures', 'variograms')\n",
    "\n",
    "uavsar_dir = Path('/bsuhome/zacharykeskinen/scratch/coherence/uavsar/tiffs/')\n",
    "\n",
    "# get list of uavsars directories\n",
    "uavsars = list(uavsar_dir.glob('*')) # sorted\n",
    "# get only one site\n",
    "# uavsars = [u for u in uavsars if u.stem.split('_')[0] == 'lowman']\n",
    "# get location and flight direction for key and first coherence tiff as value of dictionary\n",
    "uavsars = {u.stem: list(u.glob('*.cor.grd.tiff')) for u in uavsars if len(list(u.glob('*.cor.grd.tiff'))) > 0}\n",
    "\n",
    "# figure out max and min dt\n",
    "max_dt = 0\n",
    "min_dt = 100\n",
    "for uavsar, fps in uavsars.copy().items():\n",
    "    fp = fps[0]\n",
    "    ann = pd.read_csv(list(fp.parent.glob('*.csv'))[0], index_col = 0)\n",
    "    t1, t2 = ann.loc['value', 'start time of acquisition for pass 1'], ann.loc['value', 'start time of acquisition for pass 2']\n",
    "    t1, t2 = [pd.to_datetime(t) for t in [t1, t2]]\n",
    "    dt = t2 - t1\n",
    "    if dt.days > 100: uavsars.pop(uavsar); continue\n",
    "    if dt.days < 2: uavsars.pop(uavsar); continue\n",
    "    if dt.days > max_dt: max_dt = dt.days\n",
    "    if dt.days < min_dt: min_dt = dt.days\n",
    "\n",
    "cmap = mpl.colormaps.get_cmap('plasma')\n",
    "norm = mpl.colors.Normalize(min_dt, max_dt)"
   ]
  },
  {
   "cell_type": "code",
   "execution_count": 81,
   "metadata": {},
   "outputs": [
    {
     "name": "stdout",
     "output_type": "stream",
     "text": [
      "grmesa\n"
     ]
    },
    {
     "name": "stderr",
     "output_type": "stream",
     "text": [
      "  0%|          | 0/13 [00:00<?, ?it/s]"
     ]
    },
    {
     "name": "stderr",
     "output_type": "stream",
     "text": [
      "100%|██████████| 13/13 [00:05<00:00,  2.24it/s]\n"
     ]
    },
    {
     "name": "stdout",
     "output_type": "stream",
     "text": [
      "stlake\n"
     ]
    },
    {
     "name": "stderr",
     "output_type": "stream",
     "text": [
      "100%|██████████| 21/21 [00:05<00:00,  4.10it/s]\n"
     ]
    },
    {
     "name": "stdout",
     "output_type": "stream",
     "text": [
      "rockmt\n"
     ]
    },
    {
     "name": "stderr",
     "output_type": "stream",
     "text": [
      "100%|██████████| 21/21 [00:08<00:00,  2.38it/s]\n"
     ]
    },
    {
     "name": "stdout",
     "output_type": "stream",
     "text": [
      "irnton\n"
     ]
    },
    {
     "name": "stderr",
     "output_type": "stream",
     "text": [
      "100%|██████████| 9/9 [00:06<00:00,  1.47it/s]\n"
     ]
    },
    {
     "name": "stdout",
     "output_type": "stream",
     "text": [
      "sierra\n"
     ]
    },
    {
     "name": "stderr",
     "output_type": "stream",
     "text": [
      "100%|██████████| 5/5 [00:10<00:00,  2.01s/it]\n"
     ]
    },
    {
     "name": "stdout",
     "output_type": "stream",
     "text": [
      "fraser\n"
     ]
    },
    {
     "name": "stderr",
     "output_type": "stream",
     "text": [
      "  6%|▋         | 1/16 [00:03<00:47,  3.15s/it]"
     ]
    }
   ],
   "source": [
    "loc_colors = {'grmesa': {'color': 'mediumspringgreen', 'name': 'Grand Mesa, CO'}, 'stlake': {'color': 'mediumseagreen', 'name': 'St. Lake, UT'}, 'rockmt': {'color': 'orange', 'name': 'Rocky Mountain NP, CO'}, \\\n",
    "    'irnton': {'color':'darkorchid', 'name': 'Ironton, CO'}, 'sierra': {'color':'lightskyblue', 'name':'Sierra, CA'}, 'fraser': {'color':'cornflowerblue','name': 'Fraser, CO'}, \\\n",
    "        'lowman': {'color': 'pink', 'name': 'Lowman, ID'}, 'silver': {'color': 'darkgoldenrod', 'name': 'Reynold Creek, ID'}, 'uticam': {'color':'goldenrod', 'name': 'Uticam, MT'}, 'peeler': {'color': 'indianred', 'name':'Peeler, CO'},\\\n",
    "        'alamos': {'color': 'magenta', 'name': 'Alamos, NM'}, 'donner': {'color': 'mediumturquoise', 'name': 'Donner, CA'}, 'dorado': {'color': 'slategrey', 'name': 'Dorado, CA'}}\n",
    "fig, axes = plt.subplots(2, 3, figsize = (12, 8))\n",
    "\n",
    "for loc, d in loc_colors.items():\n",
    "    # if loc != 'grmesa' and loc != 'alamos' and loc != 'silver' and 'loc' != 'stlake': continue\n",
    "    print(loc)\n",
    "    color, name = d['color'], d['name']\n",
    "    loc_coords, loc_values = np.array([[],[]]).T, np.array([])\n",
    "\n",
    "    loc_uavsars = {k:v for k,v in uavsars.items() if loc in k}\n",
    "    \n",
    "    for i, (uavsar, fps) in enumerate(tqdm(loc_uavsars.items())):\n",
    "        if i > 3: continue\n",
    "\n",
    "        fps = [fp for fp in fps if 'HH_' in fp.stem]\n",
    "        if len(fps) != 1: continue\n",
    "        fp = fps[0]\n",
    "\n",
    "        locs = uavsar.split('_')[0]\n",
    "        \n",
    "        img = rxa.open_rasterio(fp).squeeze('band', drop = True)\n",
    "        img = img.rio.write_crs('EPSG:4326').rio.reproject(dst_crs = img.rio.estimate_utm_crs())\n",
    "        img = img.where((img > 0) & (img < 1))\n",
    "        # crop out center 10km\n",
    "        img = img.sel(x = slice(img.x.mean() - 5000, img.x.mean() + 5000), y = slice(img.y.mean() + 5000, img.y.mean() - 5000))\n",
    "        img = img.dropna('x', how = 'all').dropna('y', how = 'all')\n",
    "\n",
    "        n_samples = 100\n",
    "        coords = list(product(np.random.choice(img.x, round(n_samples**0.5)), np.random.choice(img.y, round(n_samples**0.5))))\n",
    "        values = np.array([img.sel(x = x, y = y).values for x, y in coords]).ravel()\n",
    "        coords, values = np.array(coords)[~np.isnan(values)], values[~np.isnan(values)]\n",
    "        loc_coords = np.concatenate([loc_coords, coords])\n",
    "        loc_values = np.concatenate([loc_values, values])\n",
    "\n",
    "    ax = axes.ravel()[0]\n",
    "    V = skg.Variogram(loc_coords, loc_values, n_lags = 100, bin_func = 'uniform', use_nugget = True, model = 'exponential', maxlag = 5000) # maxlag = 20000, n_lags = 100,\n",
    "    V.plot(axes = ax, grid = False, show = False, hist = False)\n",
    "    [l.set_color(color) for l in ax.get_lines()[-2:]]\n",
    "    ax.plot([], [], color = color, label = name, alpha = 1)\n",
    "\n",
    "\n",
    "for ax in axes.ravel():\n",
    "    [l.set_linestyle('--') for l in ax.get_lines()[1::2]]\n",
    "    [l.set_visible(False) for l in ax.get_lines()[::2]]\n",
    "\n",
    "axes[0, 0].legend(ncols = 1)\n",
    "\n",
    "fig.savefig(fig_dir.joinpath('variograms.png'))\n"
   ]
  },
  {
   "cell_type": "code",
   "execution_count": 37,
   "metadata": {},
   "outputs": [
    {
     "name": "stdout",
     "output_type": "stream",
     "text": [
      "Starting...\n"
     ]
    },
    {
     "name": "stderr",
     "output_type": "stream",
     "text": [
      " 26%|██▋       | 5/19 [01:19<03:42, 15.91s/it]\n"
     ]
    },
    {
     "data": {
      "text/plain": [
       "<matplotlib.colorbar.Colorbar at 0x7ffe012a0dd0>"
      ]
     },
     "execution_count": 37,
     "metadata": {},
     "output_type": "execute_result"
    },
    {
     "data": {
      "image/png": "[encoded data removed]",
      "text/plain": [
       "<Figure size 640x480 with 2 Axes>"
      ]
     },
     "metadata": {},
     "output_type": "display_data"
    }
   ],
   "source": [
    "from pathlib import Path\n",
    "\n",
    "import numpy as np\n",
    "import pandas as pd\n",
    "\n",
    "import rioxarray as rxa\n",
    "\n",
    "import matplotlib as mpl\n",
    "import matplotlib.pyplot as plt\n",
    "\n",
    "\n",
    "import skgstat as skg\n",
    "\n",
    "from tqdm import tqdm\n",
    "\n",
    "from itertools import product\n",
    "\n",
    "np.random.seed(42)\n",
    "\n",
    "print('Starting...')\n",
    "home_dir = Path('/Users/rdcrlzh1/Documents/uavsar-coherence/')\n",
    "home_dir = Path('/bsuhome/zacharykeskinen/uavsar-coherence/')\n",
    "fig_dir = home_dir.joinpath('figures', 'variograms')\n",
    "\n",
    "uavsar_dir = Path('/bsuhome/zacharykeskinen/scratch/coherence/uavsar/tiffs/')\n",
    "\n",
    "# get list of uavsars directories\n",
    "uavsars = list(uavsar_dir.glob('*')) # sorted\n",
    "import random\n",
    "random.shuffle(uavsars)\n",
    "# remove tmp dir\n",
    "uavsars = [u for u in uavsars if u.stem.split('_')[0] == 'lowman']\n",
    "# get location and flight direction for key and first coherence tiff as value of dictionary\n",
    "uavsars = {u.stem: list(u.glob('*.cor.grd.tiff'))[0] for u in uavsars if len(list(u.glob('*.cor.grd.tiff'))) > 0}\n",
    "\n",
    "n = 1000\n",
    "fig, axes = plt.subplots(1, 1)\n",
    "axes = [axes]\n",
    "locs = []\n",
    "\n",
    "max_dt = 0\n",
    "min_dt = 100\n",
    "for uavsar, fp in uavsars.items():\n",
    "    ann = pd.read_csv(list(fp.parent.glob('*.csv'))[0], index_col = 0)\n",
    "    t1, t2 = ann.loc['value', 'start time of acquisition for pass 1'], ann.loc['value', 'start time of acquisition for pass 2']\n",
    "    t1, t2 = [pd.to_datetime(t) for t in [t1, t2]]\n",
    "    dt = t2 - t1\n",
    "    if dt.days > max_dt: max_dt = dt.days\n",
    "    if dt.days < min_dt: min_dt = dt.days\n",
    "\n",
    "cmap = mpl.colormaps.get_cmap('plasma')\n",
    "norm = mpl.colors.Normalize(min_dt, max_dt)\n",
    "\n",
    "for i, (uavsar, fp) in tqdm(enumerate(uavsars.items()), total = len(uavsars)):\n",
    "    # if uavsar.split('_')[0] in locs: continue\n",
    "    # locs.append(uavsar.split('_')[0])\n",
    "\n",
    "    if i == 5: break\n",
    "\n",
    "    ann = pd.read_csv(list(fp.parent.glob('*.csv'))[0], index_col = 0)\n",
    "    t1, t2 = ann.loc['value', 'start time of acquisition for pass 1'], ann.loc['value', 'start time of acquisition for pass 2']\n",
    "    t1, t2 = [pd.to_datetime(t) for t in [t1, t2]]\n",
    "    dt = t2 - t1\n",
    "\n",
    "    img = rxa.open_rasterio(fp).squeeze('band', drop = True)\n",
    "    img = img.rio.write_crs('EPSG:4326').rio.reproject(dst_crs = img.rio.estimate_utm_crs())\n",
    "    img = img.where((img > 0) & (img < 1))\n",
    "    # crop out center 5km\n",
    "    img = img.sel(x = slice(img.x.mean() - 2500, img.x.mean() + 2500), y = slice(img.y.mean() + 2500, img.y.mean() - 2500))\n",
    "    img = img.dropna('x', how = 'all').dropna('y', how = 'all')\n",
    "    coords = list(product(np.random.choice(img.x, 10), np.random.choice(img.y, 10)))\n",
    "    values = np.array([img.sel(x = x, y = y).values for x, y in coords]).ravel()\n",
    "    coords = np.array(coords)[~np.isnan(values)]\n",
    "    values = values[~np.isnan(values)]\n",
    "\n",
    "\n",
    "\n",
    "    V = skg.Variogram(coords, values, n_lags = 10, bin_func = 'uniform', use_nugget = True, model = 'exponential', maxlag = 1000) # maxlag = 20000, n_lags = 100,\n",
    "    V.plot(axes = axes[0], grid = False, show = False, hist = False)\n",
    "    ax = axes[0]\n",
    "    [l.set_color(cmap(norm(dt.days))) for l in ax.get_lines()[-2:]]\n",
    "\n",
    "    # V = skg.Variogram(coords, values, n_lags = 10, bin_func = 'uniform', use_nugget = True, model = 'exponential', maxlag = 100) # maxlag = 20000, n_lags = 100,\n",
    "    # V.plot(axes = axes[1], grid = False, show = False, hist = False)\n",
    "    # V.distance_difference_plot()\n",
    "\n",
    "axes[0].set_xlabel('')\n",
    "axes[0].set_xlabel('Lag [m]')\n",
    "\n",
    "for ax in axes:\n",
    "    # [l.set_color(\"black\") for l in ax.get_lines()]\n",
    "    [l.set_linestyle('--') for l in ax.get_lines()[1::2]]\n",
    "    [l.set_visible(False) for l in ax.get_lines()[2::2]]\n",
    "    ax.axvline(30)\n",
    "\n",
    "ax = axes[0]\n",
    "from mpl_toolkits.axes_grid1 import make_axes_locatable\n",
    "divider = make_axes_locatable(ax)\n",
    "cax = divider.append_axes('right', size='5%', pad=0.05)\n",
    "\n",
    "fig.colorbar(mpl.cm.ScalarMappable(norm=norm, cmap=cmap), cax=cax, orientation='vertical')\n"
   ]
  },
  {
   "cell_type": "code",
   "execution_count": null,
   "metadata": {},
   "outputs": [],
   "source": []
  }
 ],
 "metadata": {
  "kernelspec": {
   "display_name": "coherence",
   "language": "python",
   "name": "python3"
  },
  "language_info": {
   "codemirror_mode": {
    "name": "ipython",
    "version": 3
   },
   "file_extension": ".py",
   "mimetype": "text/x-python",
   "name": "python",
   "nbconvert_exporter": "python",
   "pygments_lexer": "ipython3",
   "version": "3.11.3"
  }
 },
 "nbformat": 4,
 "nbformat_minor": 2
}
