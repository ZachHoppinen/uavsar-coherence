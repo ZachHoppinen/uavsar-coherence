{
 "cells": [
  {
   "cell_type": "code",
   "execution_count": null,
   "metadata": {},
   "outputs": [],
   "source": [
    "from itertools import product\n",
    "cohs = []\n",
    "sds = []\n",
    "for stem, ds_full in dss.items():\n",
    "    if 'sd' not in ds_full.data_vars: continue\n",
    "    print(stem)\n",
    "    # if stem != 'fraser_full': continue\n",
    "    for t, heading in product(ds_full.time.values, ds_full.heading.values):\n",
    "        ds = ds_full.sel(time = t).sel(heading = heading)\n",
    "        cor = ds['cor'].sel(time1 = slice(t - pd.Timedelta('7 days'), t), time2 = slice(t, t + pd.Timedelta('7 days'))).mean()\n",
    "        cor = cor.where(~ds['sd'].isnull()).values\n",
    "        cor = cor[~np.isnan(cor)]\n",
    "        sds = \n",
    "        cohs.append(cor)\n"
   ]
  }
 ],
 "metadata": {
  "language_info": {
   "name": "python"
  }
 },
 "nbformat": 4,
 "nbformat_minor": 2
}
