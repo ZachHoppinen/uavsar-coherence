{
 "cells": [
  {
   "cell_type": "code",
   "execution_count": 86,
   "metadata": {},
   "outputs": [],
   "source": [
    "from pathlib import Path\n",
    "\n",
    "import numpy as np\n",
    "import pandas as pd\n",
    "import xarray as xr\n",
    "\n",
    "import matplotlib.pyplot as plt\n",
    "import seaborn as sns\n",
    "\n",
    "import sys\n",
    "sys.path.append('../../funcs')\n",
    "from xarray_tools import find_cor_ts"
   ]
  },
  {
   "cell_type": "code",
   "execution_count": 2,
   "metadata": {},
   "outputs": [],
   "source": [
    "dss = {fp.stem: xr.open_dataset(fp) for fp in Path('~/scratch/coherence/uavsar').expanduser().glob('*_tau.nc')}"
   ]
  },
  {
   "cell_type": "code",
   "execution_count": 69,
   "metadata": {},
   "outputs": [
    {
     "name": "stdout",
     "output_type": "stream",
     "text": [
      "VV\n",
      "rockmt_v3_tau\n",
      "alamos_v3_tau\n",
      "grmesa_v3_tau\n",
      "uticam_v3_tau\n",
      "dorado_v3_tau\n",
      "irnton_v3_tau\n",
      "silver_v3_tau\n",
      "fraser_v3_tau\n",
      "lowman_v3_tau\n",
      "stlake_v3_tau\n",
      "sierra_v3_tau\n"
     ]
    }
   ],
   "source": [
    "# for pol in ['VV']:\n",
    "#     print(pol)\n",
    "#     res = pd.DataFrame()\n",
    "#     for stem, ds in dss.items():\n",
    "#         times = find_cor_ts(ds)\n",
    "#         print(stem)\n",
    "#         for heading, t1, t2 in times:\n",
    "#             df = ds.sel(heading = heading, time1 = t1, time2 = t2).isel(x = slice(0, -1, 10), y = slice(0, -1, 10)).drop_vars(['curvefit_covariance','model_sd','model_swe','model_melt']).drop_dims(['cov_i', 'cov_j','model_time']).sel(param = 'tau', pol = pol).to_dataframe()\n",
    "#             df = df.dropna(subset = ['cor'])\n",
    "#             df['site'] = stem.replace('_tau', '')\n",
    "#             res = pd.concat([df, res])\n",
    "#     res.to_parquet(Path(f'~/scratch/coherence/uavsar/{pol}_10.parq').expanduser())"
   ]
  },
  {
   "cell_type": "code",
   "execution_count": 152,
   "metadata": {},
   "outputs": [
    {
     "name": "stdout",
     "output_type": "stream",
     "text": [
      "rockmt_v3_tau\n",
      "rockmt_v3_tau\n",
      "alamos_v3_tau\n",
      "alamos_v3_tau\n",
      "grmesa_v3_tau\n",
      "grmesa_v3_tau\n",
      "uticam_v3_tau\n",
      "uticam_v3_tau\n",
      "dorado_v3_tau\n",
      "dorado_v3_tau\n",
      "irnton_v3_tau\n",
      "irnton_v3_tau\n",
      "silver_v3_tau\n",
      "silver_v3_tau\n",
      "fraser_v3_tau\n",
      "fraser_v3_tau\n",
      "lowman_v3_tau\n",
      "lowman_v3_tau\n"
     ]
    },
    {
     "ename": "KeyboardInterrupt",
     "evalue": "",
     "output_type": "error",
     "traceback": [
      "\u001b[0;31m---------------------------------------------------------------------------\u001b[0m",
      "\u001b[0;31mKeyboardInterrupt\u001b[0m                         Traceback (most recent call last)",
      "\u001b[1;32m/bsuhome/zacharykeskinen/uavsar-coherence/src/compare/overall/coherence_overview_fig.ipynb Cell 4\u001b[0m line \u001b[0;36m7\n\u001b[1;32m      <a href='vscode-notebook-cell://borah-ondemand.boisestate.edu/bsuhome/zacharykeskinen/uavsar-coherence/src/compare/overall/coherence_overview_fig.ipynb#X46sdnNjb2RlLXJlbW90ZQ%3D%3D?line=4'>5</a>\u001b[0m \u001b[39mprint\u001b[39m(stem)\n\u001b[1;32m      <a href='vscode-notebook-cell://borah-ondemand.boisestate.edu/bsuhome/zacharykeskinen/uavsar-coherence/src/compare/overall/coherence_overview_fig.ipynb#X46sdnNjb2RlLXJlbW90ZQ%3D%3D?line=5'>6</a>\u001b[0m \u001b[39mfor\u001b[39;00m heading, t1, t2 \u001b[39min\u001b[39;00m times:\n\u001b[0;32m----> <a href='vscode-notebook-cell://borah-ondemand.boisestate.edu/bsuhome/zacharykeskinen/uavsar-coherence/src/compare/overall/coherence_overview_fig.ipynb#X46sdnNjb2RlLXJlbW90ZQ%3D%3D?line=6'>7</a>\u001b[0m     df \u001b[39m=\u001b[39m ds\u001b[39m.\u001b[39;49msel(heading \u001b[39m=\u001b[39;49m heading, time1 \u001b[39m=\u001b[39;49m t1, time2 \u001b[39m=\u001b[39;49m t2)\u001b[39m.\u001b[39;49misel(x \u001b[39m=\u001b[39;49m \u001b[39mslice\u001b[39;49m(\u001b[39m0\u001b[39;49m, \u001b[39m-\u001b[39;49m\u001b[39m1\u001b[39;49m, \u001b[39m10\u001b[39;49m), y \u001b[39m=\u001b[39;49m \u001b[39mslice\u001b[39;49m(\u001b[39m0\u001b[39;49m, \u001b[39m-\u001b[39;49m\u001b[39m1\u001b[39;49m, \u001b[39m10\u001b[39;49m))[\u001b[39m'\u001b[39;49m\u001b[39mcor\u001b[39;49m\u001b[39m'\u001b[39;49m]\u001b[39m.\u001b[39;49mto_dataframe()\n\u001b[1;32m      <a href='vscode-notebook-cell://borah-ondemand.boisestate.edu/bsuhome/zacharykeskinen/uavsar-coherence/src/compare/overall/coherence_overview_fig.ipynb#X46sdnNjb2RlLXJlbW90ZQ%3D%3D?line=7'>8</a>\u001b[0m     df \u001b[39m=\u001b[39m df\u001b[39m.\u001b[39mdropna(subset \u001b[39m=\u001b[39m [\u001b[39m'\u001b[39m\u001b[39mcor\u001b[39m\u001b[39m'\u001b[39m])\n\u001b[1;32m      <a href='vscode-notebook-cell://borah-ondemand.boisestate.edu/bsuhome/zacharykeskinen/uavsar-coherence/src/compare/overall/coherence_overview_fig.ipynb#X46sdnNjb2RlLXJlbW90ZQ%3D%3D?line=8'>9</a>\u001b[0m     df[\u001b[39m'\u001b[39m\u001b[39msite\u001b[39m\u001b[39m'\u001b[39m] \u001b[39m=\u001b[39m stem\u001b[39m.\u001b[39mreplace(\u001b[39m'\u001b[39m\u001b[39m_tau\u001b[39m\u001b[39m'\u001b[39m, \u001b[39m'\u001b[39m\u001b[39m'\u001b[39m)\n",
      "File \u001b[0;32m~/miniconda3/envs/coherence/lib/python3.11/site-packages/xarray/core/dataarray.py:3863\u001b[0m, in \u001b[0;36mDataArray.to_dataframe\u001b[0;34m(self, name, dim_order)\u001b[0m\n\u001b[1;32m   3860\u001b[0m \u001b[39melse\u001b[39;00m:\n\u001b[1;32m   3861\u001b[0m     ordered_dims \u001b[39m=\u001b[39m ds\u001b[39m.\u001b[39m_normalize_dim_order(dim_order\u001b[39m=\u001b[39mdim_order)\n\u001b[0;32m-> 3863\u001b[0m df \u001b[39m=\u001b[39m ds\u001b[39m.\u001b[39;49m_to_dataframe(ordered_dims)\n\u001b[1;32m   3864\u001b[0m df\u001b[39m.\u001b[39mcolumns \u001b[39m=\u001b[39m [name \u001b[39mif\u001b[39;00m c \u001b[39m==\u001b[39m unique_name \u001b[39melse\u001b[39;00m c \u001b[39mfor\u001b[39;00m c \u001b[39min\u001b[39;00m df\u001b[39m.\u001b[39mcolumns]\n\u001b[1;32m   3865\u001b[0m \u001b[39mreturn\u001b[39;00m df\n",
      "File \u001b[0;32m~/miniconda3/envs/coherence/lib/python3.11/site-packages/xarray/core/dataset.py:7155\u001b[0m, in \u001b[0;36mDataset._to_dataframe\u001b[0;34m(self, ordered_dims)\u001b[0m\n\u001b[1;32m   7153\u001b[0m \u001b[39mdef\u001b[39;00m \u001b[39m_to_dataframe\u001b[39m(\u001b[39mself\u001b[39m, ordered_dims: Mapping[Any, \u001b[39mint\u001b[39m]):\n\u001b[1;32m   7154\u001b[0m     columns \u001b[39m=\u001b[39m [k \u001b[39mfor\u001b[39;00m k \u001b[39min\u001b[39;00m \u001b[39mself\u001b[39m\u001b[39m.\u001b[39mvariables \u001b[39mif\u001b[39;00m k \u001b[39mnot\u001b[39;00m \u001b[39min\u001b[39;00m \u001b[39mself\u001b[39m\u001b[39m.\u001b[39mdims]\n\u001b[0;32m-> 7155\u001b[0m     data \u001b[39m=\u001b[39m [\n\u001b[1;32m   7156\u001b[0m         \u001b[39mself\u001b[39;49m\u001b[39m.\u001b[39;49m_variables[k]\u001b[39m.\u001b[39;49mset_dims(ordered_dims)\u001b[39m.\u001b[39;49mvalues\u001b[39m.\u001b[39;49mreshape(\u001b[39m-\u001b[39;49m\u001b[39m1\u001b[39;49m)\n\u001b[1;32m   7157\u001b[0m         \u001b[39mfor\u001b[39;49;00m k \u001b[39min\u001b[39;49;00m columns\n\u001b[1;32m   7158\u001b[0m     ]\n\u001b[1;32m   7159\u001b[0m     index \u001b[39m=\u001b[39m \u001b[39mself\u001b[39m\u001b[39m.\u001b[39mcoords\u001b[39m.\u001b[39mto_index([\u001b[39m*\u001b[39mordered_dims])\n\u001b[1;32m   7160\u001b[0m     \u001b[39mreturn\u001b[39;00m pd\u001b[39m.\u001b[39mDataFrame(\u001b[39mdict\u001b[39m(\u001b[39mzip\u001b[39m(columns, data)), index\u001b[39m=\u001b[39mindex)\n",
      "File \u001b[0;32m~/miniconda3/envs/coherence/lib/python3.11/site-packages/xarray/core/dataset.py:7156\u001b[0m, in \u001b[0;36m<listcomp>\u001b[0;34m(.0)\u001b[0m\n\u001b[1;32m   7153\u001b[0m \u001b[39mdef\u001b[39;00m \u001b[39m_to_dataframe\u001b[39m(\u001b[39mself\u001b[39m, ordered_dims: Mapping[Any, \u001b[39mint\u001b[39m]):\n\u001b[1;32m   7154\u001b[0m     columns \u001b[39m=\u001b[39m [k \u001b[39mfor\u001b[39;00m k \u001b[39min\u001b[39;00m \u001b[39mself\u001b[39m\u001b[39m.\u001b[39mvariables \u001b[39mif\u001b[39;00m k \u001b[39mnot\u001b[39;00m \u001b[39min\u001b[39;00m \u001b[39mself\u001b[39m\u001b[39m.\u001b[39mdims]\n\u001b[1;32m   7155\u001b[0m     data \u001b[39m=\u001b[39m [\n\u001b[0;32m-> 7156\u001b[0m         \u001b[39mself\u001b[39;49m\u001b[39m.\u001b[39;49m_variables[k]\u001b[39m.\u001b[39;49mset_dims(ordered_dims)\u001b[39m.\u001b[39mvalues\u001b[39m.\u001b[39mreshape(\u001b[39m-\u001b[39m\u001b[39m1\u001b[39m)\n\u001b[1;32m   7157\u001b[0m         \u001b[39mfor\u001b[39;00m k \u001b[39min\u001b[39;00m columns\n\u001b[1;32m   7158\u001b[0m     ]\n\u001b[1;32m   7159\u001b[0m     index \u001b[39m=\u001b[39m \u001b[39mself\u001b[39m\u001b[39m.\u001b[39mcoords\u001b[39m.\u001b[39mto_index([\u001b[39m*\u001b[39mordered_dims])\n\u001b[1;32m   7160\u001b[0m     \u001b[39mreturn\u001b[39;00m pd\u001b[39m.\u001b[39mDataFrame(\u001b[39mdict\u001b[39m(\u001b[39mzip\u001b[39m(columns, data)), index\u001b[39m=\u001b[39mindex)\n",
      "File \u001b[0;32m~/miniconda3/envs/coherence/lib/python3.11/site-packages/xarray/core/variable.py:1334\u001b[0m, in \u001b[0;36mVariable.set_dims\u001b[0;34m(self, dims, shape)\u001b[0m\n\u001b[1;32m   1329\u001b[0m expanded_dims \u001b[39m=\u001b[39m \u001b[39mtuple\u001b[39m(d \u001b[39mfor\u001b[39;00m d \u001b[39min\u001b[39;00m dims \u001b[39mif\u001b[39;00m d \u001b[39mnot\u001b[39;00m \u001b[39min\u001b[39;00m self_dims) \u001b[39m+\u001b[39m \u001b[39mself\u001b[39m\u001b[39m.\u001b[39mdims\n\u001b[1;32m   1331\u001b[0m \u001b[39mif\u001b[39;00m \u001b[39mself\u001b[39m\u001b[39m.\u001b[39mdims \u001b[39m==\u001b[39m expanded_dims:\n\u001b[1;32m   1332\u001b[0m     \u001b[39m# don't use broadcast_to unless necessary so the result remains\u001b[39;00m\n\u001b[1;32m   1333\u001b[0m     \u001b[39m# writeable if possible\u001b[39;00m\n\u001b[0;32m-> 1334\u001b[0m     expanded_data \u001b[39m=\u001b[39m \u001b[39mself\u001b[39;49m\u001b[39m.\u001b[39;49mdata\n\u001b[1;32m   1335\u001b[0m \u001b[39melif\u001b[39;00m shape \u001b[39mis\u001b[39;00m \u001b[39mnot\u001b[39;00m \u001b[39mNone\u001b[39;00m:\n\u001b[1;32m   1336\u001b[0m     dims_map \u001b[39m=\u001b[39m \u001b[39mdict\u001b[39m(\u001b[39mzip\u001b[39m(dims, shape))\n",
      "File \u001b[0;32m~/miniconda3/envs/coherence/lib/python3.11/site-packages/xarray/core/variable.py:416\u001b[0m, in \u001b[0;36mVariable.data\u001b[0;34m(self)\u001b[0m\n\u001b[1;32m    414\u001b[0m     \u001b[39mreturn\u001b[39;00m \u001b[39mself\u001b[39m\u001b[39m.\u001b[39m_data\n\u001b[1;32m    415\u001b[0m \u001b[39melif\u001b[39;00m \u001b[39misinstance\u001b[39m(\u001b[39mself\u001b[39m\u001b[39m.\u001b[39m_data, indexing\u001b[39m.\u001b[39mExplicitlyIndexed):\n\u001b[0;32m--> 416\u001b[0m     \u001b[39mreturn\u001b[39;00m \u001b[39mself\u001b[39;49m\u001b[39m.\u001b[39;49m_data\u001b[39m.\u001b[39;49mget_duck_array()\n\u001b[1;32m    417\u001b[0m \u001b[39melse\u001b[39;00m:\n\u001b[1;32m    418\u001b[0m     \u001b[39mreturn\u001b[39;00m \u001b[39mself\u001b[39m\u001b[39m.\u001b[39mvalues\n",
      "File \u001b[0;32m~/miniconda3/envs/coherence/lib/python3.11/site-packages/xarray/core/indexing.py:696\u001b[0m, in \u001b[0;36mMemoryCachedArray.get_duck_array\u001b[0;34m(self)\u001b[0m\n\u001b[1;32m    695\u001b[0m \u001b[39mdef\u001b[39;00m \u001b[39mget_duck_array\u001b[39m(\u001b[39mself\u001b[39m):\n\u001b[0;32m--> 696\u001b[0m     \u001b[39mself\u001b[39;49m\u001b[39m.\u001b[39;49m_ensure_cached()\n\u001b[1;32m    697\u001b[0m     \u001b[39mreturn\u001b[39;00m \u001b[39mself\u001b[39m\u001b[39m.\u001b[39marray\u001b[39m.\u001b[39mget_duck_array()\n",
      "File \u001b[0;32m~/miniconda3/envs/coherence/lib/python3.11/site-packages/xarray/core/indexing.py:690\u001b[0m, in \u001b[0;36mMemoryCachedArray._ensure_cached\u001b[0;34m(self)\u001b[0m\n\u001b[1;32m    689\u001b[0m \u001b[39mdef\u001b[39;00m \u001b[39m_ensure_cached\u001b[39m(\u001b[39mself\u001b[39m):\n\u001b[0;32m--> 690\u001b[0m     \u001b[39mself\u001b[39m\u001b[39m.\u001b[39marray \u001b[39m=\u001b[39m as_indexable(\u001b[39mself\u001b[39;49m\u001b[39m.\u001b[39;49marray\u001b[39m.\u001b[39;49mget_duck_array())\n",
      "File \u001b[0;32m~/miniconda3/envs/coherence/lib/python3.11/site-packages/xarray/core/indexing.py:664\u001b[0m, in \u001b[0;36mCopyOnWriteArray.get_duck_array\u001b[0;34m(self)\u001b[0m\n\u001b[1;32m    663\u001b[0m \u001b[39mdef\u001b[39;00m \u001b[39mget_duck_array\u001b[39m(\u001b[39mself\u001b[39m):\n\u001b[0;32m--> 664\u001b[0m     \u001b[39mreturn\u001b[39;00m \u001b[39mself\u001b[39;49m\u001b[39m.\u001b[39;49marray\u001b[39m.\u001b[39;49mget_duck_array()\n",
      "File \u001b[0;32m~/miniconda3/envs/coherence/lib/python3.11/site-packages/xarray/core/indexing.py:557\u001b[0m, in \u001b[0;36mLazilyIndexedArray.get_duck_array\u001b[0;34m(self)\u001b[0m\n\u001b[1;32m    552\u001b[0m \u001b[39m# self.array[self.key] is now a numpy array when\u001b[39;00m\n\u001b[1;32m    553\u001b[0m \u001b[39m# self.array is a BackendArray subclass\u001b[39;00m\n\u001b[1;32m    554\u001b[0m \u001b[39m# and self.key is BasicIndexer((slice(None, None, None),))\u001b[39;00m\n\u001b[1;32m    555\u001b[0m \u001b[39m# so we need the explicit check for ExplicitlyIndexed\u001b[39;00m\n\u001b[1;32m    556\u001b[0m \u001b[39mif\u001b[39;00m \u001b[39misinstance\u001b[39m(array, ExplicitlyIndexed):\n\u001b[0;32m--> 557\u001b[0m     array \u001b[39m=\u001b[39m array\u001b[39m.\u001b[39;49mget_duck_array()\n\u001b[1;32m    558\u001b[0m \u001b[39mreturn\u001b[39;00m _wrap_numpy_scalars(array)\n",
      "File \u001b[0;32m~/miniconda3/envs/coherence/lib/python3.11/site-packages/xarray/coding/variables.py:75\u001b[0m, in \u001b[0;36m_ElementwiseFunctionArray.get_duck_array\u001b[0;34m(self)\u001b[0m\n\u001b[1;32m     74\u001b[0m \u001b[39mdef\u001b[39;00m \u001b[39mget_duck_array\u001b[39m(\u001b[39mself\u001b[39m):\n\u001b[0;32m---> 75\u001b[0m     \u001b[39mreturn\u001b[39;00m \u001b[39mself\u001b[39m\u001b[39m.\u001b[39mfunc(\u001b[39mself\u001b[39;49m\u001b[39m.\u001b[39;49marray\u001b[39m.\u001b[39;49mget_duck_array())\n",
      "File \u001b[0;32m~/miniconda3/envs/coherence/lib/python3.11/site-packages/xarray/core/indexing.py:551\u001b[0m, in \u001b[0;36mLazilyIndexedArray.get_duck_array\u001b[0;34m(self)\u001b[0m\n\u001b[1;32m    550\u001b[0m \u001b[39mdef\u001b[39;00m \u001b[39mget_duck_array\u001b[39m(\u001b[39mself\u001b[39m):\n\u001b[0;32m--> 551\u001b[0m     array \u001b[39m=\u001b[39m \u001b[39mself\u001b[39;49m\u001b[39m.\u001b[39;49marray[\u001b[39mself\u001b[39;49m\u001b[39m.\u001b[39;49mkey]\n\u001b[1;32m    552\u001b[0m     \u001b[39m# self.array[self.key] is now a numpy array when\u001b[39;00m\n\u001b[1;32m    553\u001b[0m     \u001b[39m# self.array is a BackendArray subclass\u001b[39;00m\n\u001b[1;32m    554\u001b[0m     \u001b[39m# and self.key is BasicIndexer((slice(None, None, None),))\u001b[39;00m\n\u001b[1;32m    555\u001b[0m     \u001b[39m# so we need the explicit check for ExplicitlyIndexed\u001b[39;00m\n\u001b[1;32m    556\u001b[0m     \u001b[39mif\u001b[39;00m \u001b[39misinstance\u001b[39m(array, ExplicitlyIndexed):\n",
      "File \u001b[0;32m~/miniconda3/envs/coherence/lib/python3.11/site-packages/xarray/backends/netCDF4_.py:101\u001b[0m, in \u001b[0;36mNetCDF4ArrayWrapper.__getitem__\u001b[0;34m(self, key)\u001b[0m\n\u001b[1;32m    100\u001b[0m \u001b[39mdef\u001b[39;00m \u001b[39m__getitem__\u001b[39m(\u001b[39mself\u001b[39m, key):\n\u001b[0;32m--> 101\u001b[0m     \u001b[39mreturn\u001b[39;00m indexing\u001b[39m.\u001b[39;49mexplicit_indexing_adapter(\n\u001b[1;32m    102\u001b[0m         key, \u001b[39mself\u001b[39;49m\u001b[39m.\u001b[39;49mshape, indexing\u001b[39m.\u001b[39;49mIndexingSupport\u001b[39m.\u001b[39;49mOUTER, \u001b[39mself\u001b[39;49m\u001b[39m.\u001b[39;49m_getitem\n\u001b[1;32m    103\u001b[0m     )\n",
      "File \u001b[0;32m~/miniconda3/envs/coherence/lib/python3.11/site-packages/xarray/core/indexing.py:858\u001b[0m, in \u001b[0;36mexplicit_indexing_adapter\u001b[0;34m(key, shape, indexing_support, raw_indexing_method)\u001b[0m\n\u001b[1;32m    836\u001b[0m \u001b[39m\u001b[39m\u001b[39m\"\"\"Support explicit indexing by delegating to a raw indexing method.\u001b[39;00m\n\u001b[1;32m    837\u001b[0m \n\u001b[1;32m    838\u001b[0m \u001b[39mOuter and/or vectorized indexers are supported by indexing a second time\u001b[39;00m\n\u001b[0;32m   (...)\u001b[0m\n\u001b[1;32m    855\u001b[0m \u001b[39mIndexing result, in the form of a duck numpy-array.\u001b[39;00m\n\u001b[1;32m    856\u001b[0m \u001b[39m\"\"\"\u001b[39;00m\n\u001b[1;32m    857\u001b[0m raw_key, numpy_indices \u001b[39m=\u001b[39m decompose_indexer(key, shape, indexing_support)\n\u001b[0;32m--> 858\u001b[0m result \u001b[39m=\u001b[39m raw_indexing_method(raw_key\u001b[39m.\u001b[39;49mtuple)\n\u001b[1;32m    859\u001b[0m \u001b[39mif\u001b[39;00m numpy_indices\u001b[39m.\u001b[39mtuple:\n\u001b[1;32m    860\u001b[0m     \u001b[39m# index the loaded np.ndarray\u001b[39;00m\n\u001b[1;32m    861\u001b[0m     result \u001b[39m=\u001b[39m NumpyIndexingAdapter(result)[numpy_indices]\n",
      "File \u001b[0;32m~/miniconda3/envs/coherence/lib/python3.11/site-packages/xarray/backends/netCDF4_.py:114\u001b[0m, in \u001b[0;36mNetCDF4ArrayWrapper._getitem\u001b[0;34m(self, key)\u001b[0m\n\u001b[1;32m    112\u001b[0m     \u001b[39mwith\u001b[39;00m \u001b[39mself\u001b[39m\u001b[39m.\u001b[39mdatastore\u001b[39m.\u001b[39mlock:\n\u001b[1;32m    113\u001b[0m         original_array \u001b[39m=\u001b[39m \u001b[39mself\u001b[39m\u001b[39m.\u001b[39mget_array(needs_lock\u001b[39m=\u001b[39m\u001b[39mFalse\u001b[39;00m)\n\u001b[0;32m--> 114\u001b[0m         array \u001b[39m=\u001b[39m getitem(original_array, key)\n\u001b[1;32m    115\u001b[0m \u001b[39mexcept\u001b[39;00m \u001b[39mIndexError\u001b[39;00m:\n\u001b[1;32m    116\u001b[0m     \u001b[39m# Catch IndexError in netCDF4 and return a more informative\u001b[39;00m\n\u001b[1;32m    117\u001b[0m     \u001b[39m# error message.  This is most often called when an unsorted\u001b[39;00m\n\u001b[1;32m    118\u001b[0m     \u001b[39m# indexer is used before the data is loaded from disk.\u001b[39;00m\n\u001b[1;32m    119\u001b[0m     msg \u001b[39m=\u001b[39m (\n\u001b[1;32m    120\u001b[0m         \u001b[39m\"\u001b[39m\u001b[39mThe indexing operation you are attempting to perform \u001b[39m\u001b[39m\"\u001b[39m\n\u001b[1;32m    121\u001b[0m         \u001b[39m\"\u001b[39m\u001b[39mis not valid on netCDF4.Variable object. Try loading \u001b[39m\u001b[39m\"\u001b[39m\n\u001b[1;32m    122\u001b[0m         \u001b[39m\"\u001b[39m\u001b[39myour data into memory first by calling .load().\u001b[39m\u001b[39m\"\u001b[39m\n\u001b[1;32m    123\u001b[0m     )\n",
      "\u001b[0;31mKeyboardInterrupt\u001b[0m: "
     ]
    }
   ],
   "source": [
    "res = pd.DataFrame()\n",
    "for stem, ds in dss.items():\n",
    "    print(stem)\n",
    "    times = find_cor_ts(ds)\n",
    "    for heading, t1, t2 in times:\n",
    "        df = ds.sel(heading = heading, time1 = t1, time2 = t2).isel(x = slice(0, -1, 10), y = slice(0, -1, 10))['cor'].to_dataframe()\n",
    "        df = df.dropna(subset = ['cor'])\n",
    "        df['site'] = stem.replace('_tau', '')\n",
    "        res = pd.concat([df, res])\n",
    "# res.to_parquet(Path(f'~/scratch/coherence/uavsar/{pol}_10.parq').expanduser())"
   ]
  },
  {
   "cell_type": "code",
   "execution_count": 154,
   "metadata": {},
   "outputs": [
    {
     "ename": "KeyError",
     "evalue": "'pol'",
     "output_type": "error",
     "traceback": [
      "\u001b[0;31m---------------------------------------------------------------------------\u001b[0m",
      "\u001b[0;31mKeyError\u001b[0m                                  Traceback (most recent call last)",
      "File \u001b[0;32m~/miniconda3/envs/coherence/lib/python3.11/site-packages/pandas/core/indexes/base.py:3652\u001b[0m, in \u001b[0;36mIndex.get_loc\u001b[0;34m(self, key)\u001b[0m\n\u001b[1;32m   3651\u001b[0m \u001b[39mtry\u001b[39;00m:\n\u001b[0;32m-> 3652\u001b[0m     \u001b[39mreturn\u001b[39;00m \u001b[39mself\u001b[39;49m\u001b[39m.\u001b[39;49m_engine\u001b[39m.\u001b[39;49mget_loc(casted_key)\n\u001b[1;32m   3653\u001b[0m \u001b[39mexcept\u001b[39;00m \u001b[39mKeyError\u001b[39;00m \u001b[39mas\u001b[39;00m err:\n",
      "File \u001b[0;32m~/miniconda3/envs/coherence/lib/python3.11/site-packages/pandas/_libs/index.pyx:147\u001b[0m, in \u001b[0;36mpandas._libs.index.IndexEngine.get_loc\u001b[0;34m()\u001b[0m\n",
      "File \u001b[0;32m~/miniconda3/envs/coherence/lib/python3.11/site-packages/pandas/_libs/index.pyx:176\u001b[0m, in \u001b[0;36mpandas._libs.index.IndexEngine.get_loc\u001b[0;34m()\u001b[0m\n",
      "File \u001b[0;32mpandas/_libs/hashtable_class_helper.pxi:7080\u001b[0m, in \u001b[0;36mpandas._libs.hashtable.PyObjectHashTable.get_item\u001b[0;34m()\u001b[0m\n",
      "File \u001b[0;32mpandas/_libs/hashtable_class_helper.pxi:7088\u001b[0m, in \u001b[0;36mpandas._libs.hashtable.PyObjectHashTable.get_item\u001b[0;34m()\u001b[0m\n",
      "\u001b[0;31mKeyError\u001b[0m: 'pol'",
      "\nThe above exception was the direct cause of the following exception:\n",
      "\u001b[0;31mKeyError\u001b[0m                                  Traceback (most recent call last)",
      "\u001b[1;32m/bsuhome/zacharykeskinen/uavsar-coherence/src/compare/overall/coherence_overview_fig.ipynb Cell 6\u001b[0m line \u001b[0;36m7\n\u001b[1;32m      <a href='vscode-notebook-cell://borah-ondemand.boisestate.edu/bsuhome/zacharykeskinen/uavsar-coherence/src/compare/overall/coherence_overview_fig.ipynb#X30sdnNjb2RlLXJlbW90ZQ%3D%3D?line=4'>5</a>\u001b[0m         sns\u001b[39m.\u001b[39mkdeplot(res\u001b[39m.\u001b[39mloc[(res[\u001b[39m'\u001b[39m\u001b[39mdelta_t\u001b[39m\u001b[39m'\u001b[39m] \u001b[39m<\u001b[39m high) \u001b[39m&\u001b[39m (res[\u001b[39m'\u001b[39m\u001b[39mdelta_t\u001b[39m\u001b[39m'\u001b[39m] \u001b[39m>\u001b[39m\u001b[39m=\u001b[39m low) \u001b[39m&\u001b[39m (res[\u001b[39m'\u001b[39m\u001b[39mpol\u001b[39m\u001b[39m'\u001b[39m] \u001b[39m==\u001b[39m \u001b[39m'\u001b[39m\u001b[39mHH\u001b[39m\u001b[39m'\u001b[39m)][\u001b[39m'\u001b[39m\u001b[39mcor\u001b[39m\u001b[39m'\u001b[39m]\u001b[39m.\u001b[39mvalues, label \u001b[39m=\u001b[39m \u001b[39mf\u001b[39m\u001b[39m'\u001b[39m\u001b[39m{\u001b[39;00mlow\u001b[39m}\u001b[39;00m\u001b[39m-\u001b[39m\u001b[39m{\u001b[39;00mhigh\u001b[39m}\u001b[39;00m\u001b[39m Days\u001b[39m\u001b[39m'\u001b[39m, color \u001b[39m=\u001b[39m plt\u001b[39m.\u001b[39mcolormaps[\u001b[39m'\u001b[39m\u001b[39mSet2\u001b[39m\u001b[39m'\u001b[39m](i), ax\u001b[39m=\u001b[39m ax)\n\u001b[1;32m      <a href='vscode-notebook-cell://borah-ondemand.boisestate.edu/bsuhome/zacharykeskinen/uavsar-coherence/src/compare/overall/coherence_overview_fig.ipynb#X30sdnNjb2RlLXJlbW90ZQ%3D%3D?line=5'>6</a>\u001b[0m     plt\u001b[39m.\u001b[39mlegend()\n\u001b[0;32m----> <a href='vscode-notebook-cell://borah-ondemand.boisestate.edu/bsuhome/zacharykeskinen/uavsar-coherence/src/compare/overall/coherence_overview_fig.ipynb#X30sdnNjb2RlLXJlbW90ZQ%3D%3D?line=6'>7</a>\u001b[0m add_temporal_hists(ax)\n",
      "\u001b[1;32m/bsuhome/zacharykeskinen/uavsar-coherence/src/compare/overall/coherence_overview_fig.ipynb Cell 6\u001b[0m line \u001b[0;36m5\n\u001b[1;32m      <a href='vscode-notebook-cell://borah-ondemand.boisestate.edu/bsuhome/zacharykeskinen/uavsar-coherence/src/compare/overall/coherence_overview_fig.ipynb#X30sdnNjb2RlLXJlbW90ZQ%3D%3D?line=2'>3</a>\u001b[0m cmap \u001b[39m=\u001b[39m plt\u001b[39m.\u001b[39mcolormaps[\u001b[39m'\u001b[39m\u001b[39mplasma\u001b[39m\u001b[39m'\u001b[39m]\n\u001b[1;32m      <a href='vscode-notebook-cell://borah-ondemand.boisestate.edu/bsuhome/zacharykeskinen/uavsar-coherence/src/compare/overall/coherence_overview_fig.ipynb#X30sdnNjb2RlLXJlbW90ZQ%3D%3D?line=3'>4</a>\u001b[0m \u001b[39mfor\u001b[39;00m i, (low, high) \u001b[39min\u001b[39;00m \u001b[39menumerate\u001b[39m([[\u001b[39m0\u001b[39m,\u001b[39m1\u001b[39m], [\u001b[39m5\u001b[39m,\u001b[39m10\u001b[39m], [\u001b[39m10\u001b[39m, \u001b[39m15\u001b[39m], [\u001b[39m15\u001b[39m, \u001b[39m20\u001b[39m], [\u001b[39m20\u001b[39m, \u001b[39m25\u001b[39m],[\u001b[39m25\u001b[39m, \u001b[39m100\u001b[39m]]):\n\u001b[0;32m----> <a href='vscode-notebook-cell://borah-ondemand.boisestate.edu/bsuhome/zacharykeskinen/uavsar-coherence/src/compare/overall/coherence_overview_fig.ipynb#X30sdnNjb2RlLXJlbW90ZQ%3D%3D?line=4'>5</a>\u001b[0m     sns\u001b[39m.\u001b[39mkdeplot(res\u001b[39m.\u001b[39mloc[(res[\u001b[39m'\u001b[39m\u001b[39mdelta_t\u001b[39m\u001b[39m'\u001b[39m] \u001b[39m<\u001b[39m high) \u001b[39m&\u001b[39m (res[\u001b[39m'\u001b[39m\u001b[39mdelta_t\u001b[39m\u001b[39m'\u001b[39m] \u001b[39m>\u001b[39m\u001b[39m=\u001b[39m low) \u001b[39m&\u001b[39m (res[\u001b[39m'\u001b[39;49m\u001b[39mpol\u001b[39;49m\u001b[39m'\u001b[39;49m] \u001b[39m==\u001b[39m \u001b[39m'\u001b[39m\u001b[39mHH\u001b[39m\u001b[39m'\u001b[39m)][\u001b[39m'\u001b[39m\u001b[39mcor\u001b[39m\u001b[39m'\u001b[39m]\u001b[39m.\u001b[39mvalues, label \u001b[39m=\u001b[39m \u001b[39mf\u001b[39m\u001b[39m'\u001b[39m\u001b[39m{\u001b[39;00mlow\u001b[39m}\u001b[39;00m\u001b[39m-\u001b[39m\u001b[39m{\u001b[39;00mhigh\u001b[39m}\u001b[39;00m\u001b[39m Days\u001b[39m\u001b[39m'\u001b[39m, color \u001b[39m=\u001b[39m plt\u001b[39m.\u001b[39mcolormaps[\u001b[39m'\u001b[39m\u001b[39mSet2\u001b[39m\u001b[39m'\u001b[39m](i), ax\u001b[39m=\u001b[39m ax)\n\u001b[1;32m      <a href='vscode-notebook-cell://borah-ondemand.boisestate.edu/bsuhome/zacharykeskinen/uavsar-coherence/src/compare/overall/coherence_overview_fig.ipynb#X30sdnNjb2RlLXJlbW90ZQ%3D%3D?line=5'>6</a>\u001b[0m plt\u001b[39m.\u001b[39mlegend()\n",
      "File \u001b[0;32m~/miniconda3/envs/coherence/lib/python3.11/site-packages/pandas/core/frame.py:3760\u001b[0m, in \u001b[0;36mDataFrame.__getitem__\u001b[0;34m(self, key)\u001b[0m\n\u001b[1;32m   3758\u001b[0m \u001b[39mif\u001b[39;00m \u001b[39mself\u001b[39m\u001b[39m.\u001b[39mcolumns\u001b[39m.\u001b[39mnlevels \u001b[39m>\u001b[39m \u001b[39m1\u001b[39m:\n\u001b[1;32m   3759\u001b[0m     \u001b[39mreturn\u001b[39;00m \u001b[39mself\u001b[39m\u001b[39m.\u001b[39m_getitem_multilevel(key)\n\u001b[0;32m-> 3760\u001b[0m indexer \u001b[39m=\u001b[39m \u001b[39mself\u001b[39;49m\u001b[39m.\u001b[39;49mcolumns\u001b[39m.\u001b[39;49mget_loc(key)\n\u001b[1;32m   3761\u001b[0m \u001b[39mif\u001b[39;00m is_integer(indexer):\n\u001b[1;32m   3762\u001b[0m     indexer \u001b[39m=\u001b[39m [indexer]\n",
      "File \u001b[0;32m~/miniconda3/envs/coherence/lib/python3.11/site-packages/pandas/core/indexes/base.py:3654\u001b[0m, in \u001b[0;36mIndex.get_loc\u001b[0;34m(self, key)\u001b[0m\n\u001b[1;32m   3652\u001b[0m     \u001b[39mreturn\u001b[39;00m \u001b[39mself\u001b[39m\u001b[39m.\u001b[39m_engine\u001b[39m.\u001b[39mget_loc(casted_key)\n\u001b[1;32m   3653\u001b[0m \u001b[39mexcept\u001b[39;00m \u001b[39mKeyError\u001b[39;00m \u001b[39mas\u001b[39;00m err:\n\u001b[0;32m-> 3654\u001b[0m     \u001b[39mraise\u001b[39;00m \u001b[39mKeyError\u001b[39;00m(key) \u001b[39mfrom\u001b[39;00m \u001b[39merr\u001b[39;00m\n\u001b[1;32m   3655\u001b[0m \u001b[39mexcept\u001b[39;00m \u001b[39mTypeError\u001b[39;00m:\n\u001b[1;32m   3656\u001b[0m     \u001b[39m# If we have a listlike key, _check_indexing_error will raise\u001b[39;00m\n\u001b[1;32m   3657\u001b[0m     \u001b[39m#  InvalidIndexError. Otherwise we fall through and re-raise\u001b[39;00m\n\u001b[1;32m   3658\u001b[0m     \u001b[39m#  the TypeError.\u001b[39;00m\n\u001b[1;32m   3659\u001b[0m     \u001b[39mself\u001b[39m\u001b[39m.\u001b[39m_check_indexing_error(key)\n",
      "\u001b[0;31mKeyError\u001b[0m: 'pol'"
     ]
    },
    {
     "data": {
      "image/png": "[encoded data removed]",
      "text/plain": [
       "<Figure size 640x480 with 1 Axes>"
      ]
     },
     "metadata": {},
     "output_type": "display_data"
    }
   ],
   "source": [
    "fig, ax= plt.subplots()\n",
    "def add_temporal_hists(ax):\n",
    "    cmap = plt.colormaps['plasma']\n",
    "    for i, (low, high) in enumerate([[0,1], [5,10], [10, 15], [15, 20], [20, 25],[25, 100]]):\n",
    "        sns.kdeplot(res.loc[(res['delta_t'] < high) & (res['delta_t'] >= low) & (res['pol'] == 'HH')]['cor'].values, label = f'{low}-{high} Days', color = plt.colormaps['Set2'](i), ax= ax)\n",
    "    plt.legend()\n",
    "add_temporal_hists(ax)"
   ]
  }
 ],
 "metadata": {
  "kernelspec": {
   "display_name": "coherence",
   "language": "python",
   "name": "python3"
  },
  "language_info": {
   "codemirror_mode": {
    "name": "ipython",
    "version": 3
   },
   "file_extension": ".py",
   "mimetype": "text/x-python",
   "name": "python",
   "nbconvert_exporter": "python",
   "pygments_lexer": "ipython3",
   "version": "3.11.3"
  }
 },
 "nbformat": 4,
 "nbformat_minor": 2
}
