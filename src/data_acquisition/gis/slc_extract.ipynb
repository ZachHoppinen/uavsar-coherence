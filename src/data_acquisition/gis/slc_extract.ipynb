{
 "cells": [
  {
   "cell_type": "code",
   "execution_count": 6,
   "metadata": {},
   "outputs": [],
   "source": [
    "import numpy as np\n",
    "import pandas as pd\n",
    "import xarray as xr\n",
    "import rioxarray as rio\n",
    "\n",
    "# from uavsar_pytools.convert.tiff_conversion import read_annotation \n",
    "\n",
    "import matplotlib.pyplot as plt\n",
    "\n",
    "from pathlib import Path\n",
    "\n",
    "from tqdm import tqdm\n",
    "\n",
    "# for site in np.unique([k.split('_')[0] for k in uavsars.keys()]):\n",
    "#     if site != 'stlake': continue\n",
    "#     print(site)\n",
    "#     concat_dss = []\n",
    "    \n",
    "#     headings = {}\n",
    "#     for i, (fp, ds) in tqdm(enumerate(dss.items()), total = len(dss)):\n",
    "\n",
    "#         ann = pd.read_csv(list(fp.parent.glob('*.csv'))[0], index_col = 0)\n",
    "        \n",
    "#         t1, t2 = ann.loc['value', 'start time of acquisition for pass 1'], ann.loc['value', 'start time of acquisition for pass 2']\n",
    "#         # round to day to match heading dates\n",
    "#         t1, t2 = pd.to_datetime(t1).round('d'), pd.to_datetime(t2).round('d')\n",
    "#         if t1.year != 2021: continue\n",
    "#         # heading = ann.loc['value', 'peg heading']\n",
    "#         heading = int(fp.stem.split('_')[1][:3])\n",
    "#         if heading not in headings: headings[heading] = fp\n",
    "\n",
    "#         pol = fp.stem.split('_')[-2][4:]"
   ]
  },
  {
   "cell_type": "code",
   "execution_count": 35,
   "metadata": {},
   "outputs": [
    {
     "name": "stderr",
     "output_type": "stream",
     "text": [
      "  0%|          | 0/21 [00:00<?, ?it/s]"
     ]
    },
    {
     "name": "stderr",
     "output_type": "stream",
     "text": [
      "100%|██████████| 21/21 [01:48<00:00,  5.19s/it]\n"
     ]
    }
   ],
   "source": [
    "fig_dir = Path('/bsuhome/zacharykeskinen/uavsar-coherence/figures')\n",
    "out_dir = Path('/bsuhome/zacharykeskinen/scratch/coherence/uavsar/gis')\n",
    "tiff_dir = Path('/bsuhome/zacharykeskinen/scratch/coherence/uavsar/tiffs')\n",
    "\n",
    "site = 'stlake'\n",
    "fps = [fp for fp in list(tiff_dir.glob('*')) if site in fp.stem]\n",
    "\n",
    "for d in tqdm(fps):\n",
    "    ann = pd.read_csv(list(d.glob('*.csv'))[0], index_col = 0)\n",
    "    t1, t2 = ann.loc['value', 'start time of acquisition for pass 1'], ann.loc['value', 'start time of acquisition for pass 2']\n",
    "    t1, t2 = pd.to_datetime(t1).round('d'), pd.to_datetime(t2).round('d')\n",
    "    if t1.year != 2021: continue\n",
    "    # heading = ann.loc['value', 'peg heading']\n",
    "    heading = d.stem.split('_')[1][:3]\n",
    "    if heading != '091': continue\n",
    "\n",
    "    concats = []\n",
    "    for fp in d.glob('*.cor.grd.tiff'):\n",
    "        pol = fp.stem.split('_')[-2][4:]\n",
    "        da = xr.open_dataarray(fp).squeeze('band', drop = True).expand_dims(pol = [pol])\n",
    "        if len(concats) != 0: da = da.rio.reproject_match(concats[0])\n",
    "        concats.append(da)\n",
    "    ds = xr.concat(concats, 'pol').sel(pol = ['VV', 'VH', 'HH'])\n",
    "    ds.rio.to_raster(out_dir.joinpath(f'{pd.to_datetime(t1).date()}_{pd.to_datetime(t2).date()}.tif'))"
   ]
  },
  {
   "cell_type": "code",
   "execution_count": 33,
   "metadata": {},
   "outputs": [
    {
     "name": "stderr",
     "output_type": "stream",
     "text": [
      "  0%|          | 0/21 [00:00<?, ?it/s]"
     ]
    },
    {
     "name": "stderr",
     "output_type": "stream",
     "text": [
      " 19%|█▉        | 4/21 [00:00<00:01, 14.31it/s]"
     ]
    },
    {
     "name": "stdout",
     "output_type": "stream",
     "text": [
      "091\n",
      "091\n",
      "091\n",
      "271\n"
     ]
    },
    {
     "name": "stderr",
     "output_type": "stream",
     "text": [
      " 43%|████▎     | 9/21 [00:00<00:00, 17.62it/s]"
     ]
    },
    {
     "name": "stdout",
     "output_type": "stream",
     "text": [
      "091\n",
      "271\n",
      "091\n",
      "091\n"
     ]
    },
    {
     "name": "stderr",
     "output_type": "stream",
     "text": [
      " 76%|███████▌  | 16/21 [00:00<00:00, 23.56it/s]"
     ]
    },
    {
     "name": "stdout",
     "output_type": "stream",
     "text": [
      "271\n",
      "091\n",
      "091\n",
      "271\n"
     ]
    },
    {
     "name": "stderr",
     "output_type": "stream",
     "text": [
      "100%|██████████| 21/21 [00:01<00:00, 20.43it/s]"
     ]
    },
    {
     "name": "stdout",
     "output_type": "stream",
     "text": [
      "091\n",
      "271\n",
      "271\n"
     ]
    },
    {
     "name": "stderr",
     "output_type": "stream",
     "text": [
      "\n"
     ]
    }
   ],
   "source": [
    "for d in tqdm(fps):\n",
    "    ann = pd.read_csv(list(d.glob('*.csv'))[0], index_col = 0)\n",
    "    t1, t2 = ann.loc['value', 'start time of acquisition for pass 1'], ann.loc['value', 'start time of acquisition for pass 2']\n",
    "    t1, t2 = pd.to_datetime(t1).round('d'), pd.to_datetime(t2).round('d')\n",
    "    if t1.year != 2021: continue\n",
    "    # heading = ann.loc['value', 'peg heading']\n",
    "    heading = d.stem.split('_')[1][:3]\n",
    "    print(heading)"
   ]
  },
  {
   "cell_type": "code",
   "execution_count": 32,
   "metadata": {},
   "outputs": [
    {
     "data": {
      "text/plain": [
       "'271'"
      ]
     },
     "execution_count": 32,
     "metadata": {},
     "output_type": "execute_result"
    }
   ],
   "source": [
    "d.stem.split('_')[1][:3]"
   ]
  }
 ],
 "metadata": {
  "kernelspec": {
   "display_name": "coherence",
   "language": "python",
   "name": "python3"
  },
  "language_info": {
   "codemirror_mode": {
    "name": "ipython",
    "version": 3
   },
   "file_extension": ".py",
   "mimetype": "text/x-python",
   "name": "python",
   "nbconvert_exporter": "python",
   "pygments_lexer": "ipython3",
   "version": "3.11.3"
  }
 },
 "nbformat": 4,
 "nbformat_minor": 2
}
