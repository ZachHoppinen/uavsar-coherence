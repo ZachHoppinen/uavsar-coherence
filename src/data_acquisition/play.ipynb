{
 "cells": [
  {
   "cell_type": "code",
   "execution_count": 19,
   "metadata": {},
   "outputs": [
    {
     "data": {
      "text/html": [
       "<div>\n",
       "<style scoped>\n",
       "    .dataframe tbody tr th:only-of-type {\n",
       "        vertical-align: middle;\n",
       "    }\n",
       "\n",
       "    .dataframe tbody tr th {\n",
       "        vertical-align: top;\n",
       "    }\n",
       "\n",
       "    .dataframe thead th {\n",
       "        text-align: right;\n",
       "    }\n",
       "</style>\n",
       "<table border=\"1\" class=\"dataframe\">\n",
       "  <thead>\n",
       "    <tr style=\"text-align: right;\">\n",
       "      <th></th>\n",
       "      <th>geometry</th>\n",
       "    </tr>\n",
       "  </thead>\n",
       "  <tbody>\n",
       "    <tr>\n",
       "      <th>grmesa_27416</th>\n",
       "      <td>POLYGON ((-108.25885 39.16227, -108.25880 39.1...</td>\n",
       "    </tr>\n",
       "    <tr>\n",
       "      <th>stlake_09127</th>\n",
       "      <td>POLYGON ((-111.68318 40.67539, -111.68241 40.6...</td>\n",
       "    </tr>\n",
       "  </tbody>\n",
       "</table>\n",
       "</div>"
      ],
      "text/plain": [
       "                                                       geometry\n",
       "grmesa_27416  POLYGON ((-108.25885 39.16227, -108.25880 39.1...\n",
       "stlake_09127  POLYGON ((-111.68318 40.67539, -111.68241 40.6..."
      ]
     },
     "execution_count": 19,
     "metadata": {},
     "output_type": "execute_result"
    }
   ],
   "source": [
    "from pathlib import Path\n",
    "\n",
    "import numpy as np\n",
    "import pandas as pd\n",
    "import geopandas as gpd\n",
    "from shapely import wkb, wkt\n",
    "from shapely.geometry import box, Polygon\n",
    "\n",
    "import rasterio\n",
    "import rioxarray as rxa\n",
    "\n",
    "import matplotlib.pyplot as plt\n",
    "\n",
    "from datetime import datetime\n",
    "\n",
    "from metloom.pointdata import SnotelPointData, CDECPointData\n",
    "from metloom.variables import SnotelVariables, CdecStationVariables\n",
    "\n",
    "from rasterio import features\n",
    "def vectorize_valid(fp):\n",
    "    img = rxa.open_rasterio(fp).squeeze('band')\n",
    "    img = ~img.isnull()\n",
    "    img = img.astype('uint8')\n",
    "    mask = img == 1\n",
    "    coords = list((features.shapes(img, mask = mask)))[0][0]['coordinates'][0]\n",
    "    xy_coords = [(img.x[int(x)].values.ravel()[0], img.y[int(y)].values.ravel()[0]) for x, y in coords]\n",
    "    return Polygon(xy_coords)\n",
    "\n",
    "fig_dir = Path('/bsuhome/zacharykeskinen/uavsar-coherence/figures/snotels')\n",
    "\n",
    "uavsar_dir = Path('/bsuhome/zacharykeskinen/scratch/coherence/uavsar')\n",
    "\n",
    "uavsars = list(uavsar_dir.glob('*'))\n",
    "uavsars = [u for u in uavsars if u != 'tmp']\n",
    "uavsars = uavsars[:2]\n",
    "uavsars = {'_'.join(u.stem.split('_')[:2]): list(u.glob('*.cor.grd.tiff'))[0] for u in uavsars if len(list(u.glob('*.cor.grd.tiff'))) > 0}\n",
    "bounds = {u: vectorize_valid(v) for u, v in uavsars.items()}\n",
    "gpd.GeoDataFrame(bounds.values(), index = bounds.keys(), columns = ['geometry'])"
   ]
  }
 ],
 "metadata": {
  "kernelspec": {
   "display_name": "coherence",
   "language": "python",
   "name": "python3"
  },
  "language_info": {
   "codemirror_mode": {
    "name": "ipython",
    "version": 3
   },
   "file_extension": ".py",
   "mimetype": "text/x-python",
   "name": "python",
   "nbconvert_exporter": "python",
   "pygments_lexer": "ipython3",
   "version": "3.11.3"
  }
 },
 "nbformat": 4,
 "nbformat_minor": 2
}
