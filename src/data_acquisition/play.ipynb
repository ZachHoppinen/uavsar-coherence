{
 "cells": [
  {
   "cell_type": "code",
   "execution_count": 3,
   "metadata": {},
   "outputs": [],
   "source": [
    "from pathlib import Path\n",
    "\n",
    "import numpy as np\n",
    "import pandas as pd\n",
    "import geopandas as gpd\n",
    "from shapely import wkb, wkt\n",
    "from shapely.geometry import box, Polygon\n",
    "\n",
    "import rasterio\n",
    "import rioxarray as rxa\n",
    "\n",
    "import matplotlib.pyplot as plt\n",
    "\n",
    "from datetime import datetime\n",
    "\n",
    "from metloom.pointdata import SnotelPointData, CDECPointData\n",
    "from metloom.variables import SnotelVariables, CdecStationVariables\n",
    "\n",
    "fig_dir = Path('/bsuhome/zacharykeskinen/uavsar-coherence/figures/snotels')\n",
    "\n",
    "uavsar_dir = Path('/bsuhome/zacharykeskinen/scratch/coherence/uavsar')\n",
    "\n",
    "uavsars = list(uavsar_dir.glob('*'))\n",
    "uavsars = [u for u in uavsars if u != 'tmp']\n",
    "uavsars = {u: list(u.glob('*.cor.grd.tiff'))[0] for u in uavsars if len(list(u.glob('*.cor.grd.tiff'))) > 0}\n",
    "uavsars = {u: vectorize_valid(v) for u, v in uavsars.items()}"
   ]
  },
  {
   "cell_type": "code",
   "execution_count": null,
   "metadata": {},
   "outputs": [],
   "source": [
    "uavsars"
   ]
  },
  {
   "cell_type": "code",
   "execution_count": 2,
   "metadata": {},
   "outputs": [],
   "source": [
    "from rasterio import features\n",
    "def vectorize_valid(fp):\n",
    "    img = rxa.open_rasterio(fp).squeeze('band')\n",
    "    img = ~img.isnull()\n",
    "    img = img.astype('uint8')\n",
    "    mask = img == 1\n",
    "    return Polygon(list((features.shapes(img, mask = mask)))[0][0]['coordinates'][0])"
   ]
  },
  {
   "cell_type": "code",
   "execution_count": 2,
   "metadata": {},
   "outputs": [
    {
     "data": {
      "text/plain": [
       "<Axes: >"
      ]
     },
     "execution_count": 2,
     "metadata": {},
     "output_type": "execute_result"
    },
    {
     "data": {
      "image/png": "[encoded data removed]",
      "text/plain": [
       "<Figure size 640x480 with 1 Axes>"
      ]
     },
     "metadata": {},
     "output_type": "display_data"
    }
   ],
   "source": [
    "img = rxa.open_rasterio(list(uavsars.values())[0]).squeeze('band')\n",
    "img = ~img.isnull()\n",
    "\n",
    "from geocube.api.core import make_geocube\n",
    "from geocube.vector import vectorize\n",
    "\n",
    "grid_gdf = vectorize(img.astype('int32'))\n",
    "grid_gdf.plot()"
   ]
  },
  {
   "cell_type": "code",
   "execution_count": null,
   "metadata": {},
   "outputs": [],
   "source": [
    "img.plot()"
   ]
  }
 ],
 "metadata": {
  "kernelspec": {
   "display_name": "coherence",
   "language": "python",
   "name": "python3"
  },
  "language_info": {
   "codemirror_mode": {
    "name": "ipython",
    "version": 3
   },
   "file_extension": ".py",
   "mimetype": "text/x-python",
   "name": "python",
   "nbconvert_exporter": "python",
   "pygments_lexer": "ipython3",
   "version": "3.11.3"
  }
 },
 "nbformat": 4,
 "nbformat_minor": 2
}
