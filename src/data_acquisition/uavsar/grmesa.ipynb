{
 "cells": [
  {
   "cell_type": "code",
   "execution_count": 1,
   "metadata": {},
   "outputs": [],
   "source": [
    "import numpy as np\n",
    "import pandas as pd\n",
    "import uavsar_pytools"
   ]
  },
  {
   "cell_type": "code",
   "execution_count": 2,
   "metadata": {},
   "outputs": [],
   "source": [
    "from uavsar_pytools import UavsarCollection, UavsarImage"
   ]
  },
  {
   "cell_type": "code",
   "execution_count": null,
   "metadata": {},
   "outputs": [],
   "source": [
    "col_name = 'Grand Mesa, CO'\n",
    "\n",
    "## Working directory to save files into\n",
    "work_d = '/Users/rdcrlzh1/Documents/uavsar-coherence/data/grmesa/uavsar'\n",
    "\n",
    "\n",
    "## Optional dates to check between\n",
    "dates = (f'2016-12-01',f'2018-06-01')\n",
    "\n",
    "collection = UavsarCollection(collection = col_name, work_dir = work_d, dates = dates, clean = False, inc = True)\n",
    "\n",
    "# Optional keywords: to keep binary files use `clean = False`, to download incidence angles \n",
    "# with each image use `inc = True`, for only certain pols use `pols = ['VV','HV']`.\n",
    "# See docstring of class for full list.\n",
    "\n",
    "collection.collection_to_tiffs()"
   ]
  },
  {
   "cell_type": "markdown",
   "metadata": {},
   "source": [
    "# incidence angle files too"
   ]
  },
  {
   "cell_type": "code",
   "execution_count": 3,
   "metadata": {},
   "outputs": [
    {
     "name": "stdout",
     "output_type": "stream",
     "text": [
      "Searching with: hgt\n"
     ]
    },
    {
     "data": {
      "application/vnd.jupyter.widget-view+json": {
       "model_id": "c7c05b5242694ffa8eea6e4956421197",
       "version_major": 2,
       "version_minor": 0
      },
      "text/plain": [
       "Downloading GrMesa_08112_19047_005_190715_L090_CX_02.inc:   0%|          | 0.00/416M [00:00<?, ?B/s]"
      ]
     },
     "metadata": {},
     "output_type": "display_data"
    },
    {
     "data": {
      "application/vnd.jupyter.widget-view+json": {
       "model_id": "8a8c702989d2465eb9dab824f75ed63c",
       "version_major": 2,
       "version_minor": 0
      },
      "text/plain": [
       "Downloading GrMesa_08112_19047_005_190715_L090_CX_02.ann:   0%|          | 0.00/29.0k [00:00<?, ?B/s]"
      ]
     },
     "metadata": {},
     "output_type": "display_data"
    },
    {
     "name": "stdout",
     "output_type": "stream",
     "text": [
      "Searching with: hgt\n"
     ]
    },
    {
     "data": {
      "application/vnd.jupyter.widget-view+json": {
       "model_id": "cab0d8dfedc1486cae4d1ecbbe863b62",
       "version_major": 2,
       "version_minor": 0
      },
      "text/plain": [
       "Downloading grmesa_26006_17043_005_170331_L090_CX_01.inc:   0%|          | 0.00/397M [00:00<?, ?B/s]"
      ]
     },
     "metadata": {},
     "output_type": "display_data"
    },
    {
     "data": {
      "application/vnd.jupyter.widget-view+json": {
       "model_id": "72eb1d7641534b52bc65a00e4efc1aca",
       "version_major": 2,
       "version_minor": 0
      },
      "text/plain": [
       "Downloading grmesa_26006_17043_005_170331_L090_CX_01.ann:   0%|          | 0.00/22.3k [00:00<?, ?B/s]"
      ]
     },
     "metadata": {},
     "output_type": "display_data"
    },
    {
     "name": "stdout",
     "output_type": "stream",
     "text": [
      "Searching with: hgt\n",
      "Searching with: hgt\n"
     ]
    }
   ],
   "source": [
    "## Working directory to save files into\n",
    "work_d = '/Users/rdcrlzh1/Documents/uavsar-coherence/data/grmesa/uavsar'\n",
    "\n",
    "inc_urls = ['https://uavsar.asf.alaska.edu/UA_grmesa_08006_17043_006_170331_L090_CX_01/grmesa_08006_17043_006_170331_L090_CX_01.inc',\n",
    "'https://uavsar.asf.alaska.edu/UA_GrMesa_08112_19047_005_190715_L090_CX_02/GrMesa_08112_19047_005_190715_L090_CX_02.inc',\n",
    "'https://uavsar.asf.alaska.edu/UA_grmesa_26006_17043_005_170331_L090_CX_01/grmesa_26006_17043_005_170331_L090_CX_01.inc',\n",
    "'https://uavsar.asf.alaska.edu/UA_grmesa_07805_17043_004_170331_L090_CX_01/grmesa_07805_17043_004_170331_L090_CX_01.inc']\n",
    "# https://uavsar.asf.alaska.edu/UA_grmesa_27416_21021_005_210322_L090_CX_01/grmesa_27416_21021_005_210322_L090_CX_01.inc\n",
    "# https://uavsar.asf.alaska.edu/UA_GrMesa_26108_19047_004_190715_L090_CX_02/GrMesa_26108_19047_004_190715_L090_CX_02.inc\n",
    "\n",
    "for url in inc_urls:\n",
    "    UavsarImage(url = url, work_dir= work_d, clean = False).url_to_tiff()"
   ]
  },
  {
   "cell_type": "code",
   "execution_count": 228,
   "metadata": {},
   "outputs": [],
   "source": [
    "import numpy as np\n",
    "import pandas as pd\n",
    "import geopandas as gpd\n",
    "import xarray as xr\n",
    "import rioxarray as rxa\n",
    "from pathlib import Path\n",
    "from shapely.geometry import box, polygon"
   ]
  },
  {
   "cell_type": "code",
   "execution_count": 233,
   "metadata": {},
   "outputs": [],
   "source": [
    "from rasterio.enums import Resampling\n",
    "\n",
    "aoi = box(*gpd.read_file('/Users/rdcrlzh1/Documents/uavsar-coherence/data/grmesa/aoi/aoi.shp')['geometry'].values[0].bounds)\n",
    "aoi = box(-108.2671821858561, 38.96, -107.9429720033735, 39.109457285536415)\n",
    "work_d = Path('/Users/rdcrlzh1/Documents/uavsar-coherence/data/grmesa/')\n",
    "cors = []\n",
    "for d in list(work_d.joinpath('uavsar').glob('*grd')):\n",
    "    for f in d.glob('*cor.grd.tiff'):\n",
    "        ann = pd.read_csv(next(d.glob('*grd.csv')), index_col= 0)\n",
    "        t1, t2 = pd.to_datetime(ann['start time of acquisition for pass 1']['value']), pd.to_datetime(ann['start time of acquisition for pass 2']['value'])\n",
    "        t = f'{t1}_{t2}'\n",
    "        pol = f.stem.split('_')[-2][-2:]\n",
    "        heading = f.stem.split('_')[1][:3]\n",
    "\n",
    "        cor = rxa.open_rasterio(f).rio.clip_box(*aoi.bounds).squeeze('band', drop = True)\n",
    "        # cor = cor.isel(x = slice(0, -1, 100), y = slice(0, -1, 100))\n",
    "        cor = cor.rio.write_nodata(np.nan)\n",
    "        \n",
    "        if len(cors) != 0:            \n",
    "            cor = cor.rio.reproject_match(cors[0], Resampling = Resampling.bilinear)\n",
    "\n",
    "        cor = cor.expand_dims(times = [t]).expand_dims(pol = [pol])\n",
    "        cor = cor.assign_coords(time1 = t1).assign_coords(time2 = t2).assign_coords(heading = heading)\n",
    "        cors.append(cor)\n",
    "\n",
    "ds = xr.combine_by_coords(cors)\n",
    "ds.to_netcdf('/Users/rdcrlzh1/Documents/uavsar-coherence/data/grmesa/gm_cors.nc')"
   ]
  },
  {
   "cell_type": "code",
   "execution_count": null,
   "metadata": {},
   "outputs": [],
   "source": []
  }
 ],
 "metadata": {
  "kernelspec": {
   "display_name": "coherence",
   "language": "python",
   "name": "python3"
  },
  "language_info": {
   "codemirror_mode": {
    "name": "ipython",
    "version": 3
   },
   "file_extension": ".py",
   "mimetype": "text/x-python",
   "name": "python",
   "nbconvert_exporter": "python",
   "pygments_lexer": "ipython3",
   "version": "3.11.6"
  }
 },
 "nbformat": 4,
 "nbformat_minor": 2
}
