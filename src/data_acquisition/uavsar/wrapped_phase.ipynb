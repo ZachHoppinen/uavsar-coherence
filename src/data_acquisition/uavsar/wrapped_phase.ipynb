{
 "cells": [
  {
   "cell_type": "code",
   "execution_count": 69,
   "metadata": {},
   "outputs": [],
   "source": [
    "import numpy as np\n",
    "import pandas as pd\n",
    "import xarray as xr\n",
    "import rioxarray as rio\n",
    "\n",
    "fig_dir = Path('/bsuhome/zacharykeskinen/uavsar-coherence/figures')\n",
    "\n",
    "out_dir = Path('/bsuhome/zacharykeskinen/scratch/coherence/uavsar/')\n",
    "sites = sorted(list(out_dir.glob('*_v2.nc')))\n",
    "sites = [s for s in sites if 'full' not in s.stem]\n",
    "\n",
    "for site in sites:\n",
    "    full = xr.open_dataset(site)\n",
    "    \n",
    "    stem = site.stem.replace('_v2', '')\n",
    "    uavsars = Path('/bsuhome/zacharykeskinen/scratch/coherence/uavsar/tiffs').rglob(f'{stem}*.int.grd.tiff')\n",
    "    concat_dss = []\n",
    "    for fp in uavsars:\n",
    "        ds = np.abs(xr.open_dataarray(fp).squeeze('band', drop = True))\n",
    "        ds = 10 * np.log10(ds)\n",
    "        ds = ds.rio.reproject_match(full)\n",
    "        ann = pd.read_csv(list(fp.parent.glob('*.csv'))[0], index_col = 0)\n",
    "        \n",
    "        t1, t2 = ann.loc['value', 'start time of acquisition for pass 1'], ann.loc['value', 'start time of acquisition for pass 2']\n",
    "        # round to day to match heading dates\n",
    "        t1, t2 = pd.to_datetime(t1).round('d'), pd.to_datetime(t2).round('d')\n",
    "        # heading = ann.loc['value', 'peg heading']\n",
    "        heading = int(fp.stem.split('_')[1][:3])\n",
    "        pol = fp.stem.split('_')[-2][4:]\n",
    "\n",
    "        ds = ds.expand_dims(heading = [heading])\n",
    "        ds = ds.expand_dims(time1 = [t1])\n",
    "        ds = ds.expand_dims(time2 = [t2])\n",
    "        ds = ds.expand_dims(pol = [pol])\n",
    "\n",
    "        concat_dss.append(ds) # .chunk()\n",
    "    ds = xr.combine_by_coords(concat_dss).rename({'band_data': 'signal_amplitude'})\n",
    "    ds = ds.where((ds > -1e7) & (ds < 1e7))\n",
    "    ds['time1'] = pd.to_datetime(ds.time1)\n",
    "    ds['time2'] = pd.to_datetime(ds.time2)\n",
    "    full['signal_amplitude'] = ds['signal_amplitude']\n",
    "    \n",
    "    full.to_netcdf(out_dir.joinpath(stem + '_v3.nc'))"
   ]
  }
 ],
 "metadata": {
  "kernelspec": {
   "display_name": "coherence",
   "language": "python",
   "name": "python3"
  },
  "language_info": {
   "codemirror_mode": {
    "name": "ipython",
    "version": 3
   },
   "file_extension": ".py",
   "mimetype": "text/x-python",
   "name": "python",
   "nbconvert_exporter": "python",
   "pygments_lexer": "ipython3",
   "version": "3.11.3"
  }
 },
 "nbformat": 4,
 "nbformat_minor": 2
}
